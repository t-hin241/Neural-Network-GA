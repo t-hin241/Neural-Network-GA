{
  "cells": [
    {
      "cell_type": "code",
      "execution_count": 16,
      "metadata": {
        "collapsed": true,
        "id": "r__fmusqNNuu"
      },
      "outputs": [],
      "source": [
        "import numpy as np\n",
        "from copy import copy\n",
        "import random"
      ]
    },
    {
      "cell_type": "code",
      "execution_count": 17,
      "metadata": {
        "id": "cDw0uXxPNNuv"
      },
      "outputs": [],
      "source": [
        "def initialize_population( num_individuals, num_variables ):\n",
        "    \"\"\"\n",
        "    Khởi tạo quần thể gồm num_individuals cá thể. Mỗi cá thể có num_parameters biến.\n",
        "    \n",
        "    Arguments:\n",
        "    num_individuals -- Số lượng cá thể\n",
        "    num_variables -- Số lượng biến\n",
        "    \n",
        "    Returns:\n",
        "    pop -- Ma trận (num_individuals, num_variables ) chứa quần thể mới được khởi tạo ngẫu nhiên.\n",
        "    \"\"\"\n",
        "    \n",
        "    ### BẮT ĐẦU CODE TỪ ĐÂY ### \n",
        "    pop = np.random.randint(2, size=(num_individuals, num_variables))\n",
        "    \n",
        "    ### DỪNG CODE TẠI ĐÂY ###\n",
        "    \n",
        "    return pop"
      ]
    },
    {
      "cell_type": "code",
      "execution_count": 18,
      "metadata": {
        "id": "sexPh34MNNuw"
      },
      "outputs": [],
      "source": [
        "def onemax( ind ):\n",
        "    \"\"\"\n",
        "    Hàm đánh giá OneMax: Đếm số bit 1 trong chuỗi nhị phân (cá thể ind).\n",
        "    \n",
        "    Arguments:\n",
        "    ind -- Cá thể cần được đánh giá.\n",
        "\n",
        "    Returns:\n",
        "    value -- Giá trị của cá thể ind.\n",
        "    \"\"\"\n",
        "    \n",
        "    ### BẮT ĐẦU CODE TỪ ĐÂY ###     \n",
        "    value = np.sum(ind)\n",
        "    \n",
        "    ### DỪNG CODE TẠI ĐÂY ###\n",
        "    \n",
        "    return value"
      ]
    },
    {
      "cell_type": "code",
      "source": [
        "def compare_fitness(fitness_1, fitness_2, maximization=True):\n",
        "    if maximization:\n",
        "        if fitness_1 > fitness_2:\n",
        "            return True\n",
        "    else:\n",
        "        if fitness_1 < fitness_2:\n",
        "            return True\n",
        "        \n",
        "    return False"
      ],
      "metadata": {
        "id": "2M38G4TQKjBB"
      },
      "execution_count": 19,
      "outputs": []
    },
    {
      "cell_type": "code",
      "execution_count": 24,
      "metadata": {
        "id": "RWOJbcSCn3mz"
      },
      "outputs": [],
      "source": [
        "def tournament_selection( pop, pop_fitness, selection_size, tournament_size=4):\n",
        "    \"\"\"\n",
        "    Hàm chọn lọc cạnh tranh.\n",
        "    \n",
        "    Arguments:\n",
        "    pop -- Quần thể để thực hiện phép chọn lọc.\n",
        "    pop_fitness -- Mảng 1 chiều chứa giá trị (độ thích nghi) của từng cá thể trong quần thể.\n",
        "    selection_size -- Số lượng cá thể sẽ được chọn.\n",
        "    tournament_size -- Kích thước của tournament: Số lượng các cá thể được so sánh với nhau mỗi lần.\n",
        "    \n",
        "    Returns:\n",
        "    selected_indices -- Chỉ số của những cá thể trong quần thể pop được chọn. Chỉ số có thể được lặp lại.\n",
        "    \"\"\"\n",
        "    \n",
        "    num_individuals = len(pop) # lấy ra số lượng cá thể\n",
        "    indices = np.arange(num_individuals) # khai báo mảng indices để lấy chỉ số của từng các cá thể\n",
        "    selected_indices = [] # danh sách chứa các chỉ số của các cá thể được lựa chọn\n",
        "    \n",
        "    while len(selected_indices) < selection_size:\n",
        "        # Đảo ngẫu nhiên thứ tự các cá thể trong quần thể.\n",
        "        np.random.shuffle(indices)\n",
        "        \n",
        "        for i in range(0, num_individuals, tournament_size): # quét qua số lượng cá thể trong quần thể và chia thành từng bảng đấu\n",
        "            best_idx = i # cá thể tốt nhất\n",
        "            for idx in range(1, tournament_size): # cho các cá thể trong bảng đấu với nhau, và chọn đứa có độ thích nghi tốt hơn\n",
        "                if compare_fitness(pop_fitness[indices[i+idx]], pop_fitness[indices[best_idx]]):\n",
        "                    best_idx = i+idx\n",
        "            selected_indices.append(indices[best_idx])\n",
        "\n",
        "    selected_indices = np.array(selected_indices)\n",
        "        \n",
        "    return selected_indices"
      ]
    },
    {
      "cell_type": "code",
      "execution_count": 21,
      "metadata": {
        "id": "KYtI5HO2NNuy"
      },
      "outputs": [],
      "source": [
        "def crossover( pop ):\n",
        "    \"\"\"\n",
        "    Hàm biến đổi tạo ra các cá thể con.\n",
        "    \n",
        "    Arguments:\n",
        "    pop -- Quàn thể hiện tại.\n",
        "\n",
        "    Returns:\n",
        "    offspring -- Quần thể chứa các cá thể con được sinh ra.\n",
        "    \"\"\"  \n",
        "    \n",
        "    ### BẮT ĐẦU CODE TỪ ĐÂY ### \n",
        "    num_individuals = len(pop)\n",
        "    num_parameters = len(pop[0])\n",
        "    indices = np.arange(num_individuals)\n",
        "    # Đảo ngẫu nhiên thứ tự các cá thể trong quần thể\n",
        "    np.random.shuffle(indices)\n",
        "    offspring = []\n",
        "    \n",
        "    for i in range(0, num_individuals, 2):\n",
        "        idx1 = indices[i]\n",
        "        idx2 = indices[i+1]\n",
        "        offspring1 = list(pop[idx1])\n",
        "        offspring2 = list(pop[idx2])\n",
        "        \n",
        "        # Cài đặt phép lai đồng nhất uniform crossover. \n",
        "        # Không cần cài đặt đột biến mutation.\n",
        "        for idx in range(0, num_parameters):\n",
        "            r = np.random.rand()\n",
        "            if r < 0.5:\n",
        "                temp = offspring2[idx] \n",
        "                offspring2[idx] = offspring1[idx]\n",
        "                offspring1[idx] = temp\n",
        "\n",
        "        offspring.append(offspring1)\n",
        "        offspring.append(offspring2)\n",
        "\n",
        "\n",
        "    ### DỪNG CODE TẠI ĐÂY ###\n",
        "    \n",
        "    offspring = np.array(offspring)\n",
        "    return offspring"
      ]
    },
    {
      "cell_type": "code",
      "execution_count": 22,
      "metadata": {
        "id": "s-tug82wvrIV"
      },
      "outputs": [],
      "source": [
        "def genetic_algorithm(num_individuals, num_parameters, num_generations):\n",
        "    pop = initialize_population(num_individuals, num_parameters)\n",
        "    pop_fitness = np.array([onemax(ind) for ind in pop])\n",
        "    print(\"#Gen 0:\")\n",
        "    print(pop_fitness)\n",
        "\n",
        "    selection_size = num_individuals #do default tournament size = 4\n",
        "\n",
        "    for i in range(num_generations):\n",
        "        #Tạo quần thể con\n",
        "        offspring = crossover(pop)\n",
        "        offspring_fitness = np.array([onemax(ind) for ind in offspring])\n",
        "\n",
        "        #Trộn quần thể hiện tại và quần thể con\n",
        "        pool = np.vstack([pop, offspring])\n",
        "        pool_fitness = np.concatenate((pop_fitness, offspring_fitness))\n",
        "\n",
        "        #Tournament selection trên quần thể mới trộn\n",
        "        selected_indices = tournament_selection( pool, pool_fitness, selection_size )\n",
        "        pop = pool[selected_indices,:]\n",
        "        pop_fitness = pool_fitness[selected_indices]\n",
        "\n",
        "        print(f'#Gen {i+1}:')\n",
        "        print(pop_fitness)\n",
        "    \n",
        "    print('#Final result:')\n",
        "    print(pop)\n",
        "    print(pop_fitness)\n"
      ]
    },
    {
      "cell_type": "code",
      "source": [
        "# Trường hợp kích thước quần thể là 10, số biến là 8\n",
        "np.random.seed(19522274)\n",
        "num_parameters = 8 # số biến\n",
        "num_individuals = 10\n",
        "num_generations = 10\n",
        "genetic_algorithm(num_individuals, num_parameters, num_generations)"
      ],
      "metadata": {
        "colab": {
          "base_uri": "https://localhost:8080/"
        },
        "id": "6AahD6zWHAJY",
        "outputId": "32e29359-ff00-4f70-9c12-f3795cbaf23b"
      },
      "execution_count": 39,
      "outputs": [
        {
          "output_type": "stream",
          "name": "stdout",
          "text": [
            "#Gen 0:\n",
            "[3 3 1 3 6 5 6 5 4 4]\n",
            "#Gen 1:\n",
            "[6 5 4 5 7 6 5 5 5 7]\n",
            "#Gen 2:\n",
            "[8 6 6 6 7 8 6 5 6 7]\n",
            "#Gen 3:\n",
            "[8 8 8 7 7 8 8 6 8 8]\n",
            "#Gen 4:\n",
            "[8 8 8 8 8 8 8 8 8 8]\n",
            "#Gen 5:\n",
            "[8 8 8 8 8 8 8 8 8 8]\n",
            "#Gen 6:\n",
            "[8 8 8 8 8 8 8 8 8 8]\n",
            "#Gen 7:\n",
            "[8 8 8 8 8 8 8 8 8 8]\n",
            "#Gen 8:\n",
            "[8 8 8 8 8 8 8 8 8 8]\n",
            "#Gen 9:\n",
            "[8 8 8 8 8 8 8 8 8 8]\n",
            "#Gen 10:\n",
            "[8 8 8 8 8 8 8 8 8 8]\n",
            "#Final result:\n",
            "[[1 1 1 1 1 1 1 1]\n",
            " [1 1 1 1 1 1 1 1]\n",
            " [1 1 1 1 1 1 1 1]\n",
            " [1 1 1 1 1 1 1 1]\n",
            " [1 1 1 1 1 1 1 1]\n",
            " [1 1 1 1 1 1 1 1]\n",
            " [1 1 1 1 1 1 1 1]\n",
            " [1 1 1 1 1 1 1 1]\n",
            " [1 1 1 1 1 1 1 1]\n",
            " [1 1 1 1 1 1 1 1]]\n",
            "[8 8 8 8 8 8 8 8 8 8]\n"
          ]
        }
      ]
    },
    {
      "cell_type": "markdown",
      "source": [
        "* Nhận xét: Với  prob_size = 8 và pop_size = 10 thì quần thể đạt hội tụ về 1 và tìm được cá thể tốt nhất là [1 1 1 1 1 1 1 1]"
      ],
      "metadata": {
        "id": "0gz9Of6jLp4L"
      }
    },
    {
      "cell_type": "code",
      "source": [
        "# Trường hợp kích thước quần thể là 16, số biến là 16\n",
        "np.random.seed(19522274)\n",
        "num_parameters = 16 # số biến\n",
        "num_individuals = 16\n",
        "num_generations = 10\n",
        "genetic_algorithm(num_individuals, num_parameters, num_generations)"
      ],
      "metadata": {
        "colab": {
          "base_uri": "https://localhost:8080/"
        },
        "id": "N66e5bDHK-7o",
        "outputId": "49299cdf-a0d3-4dd3-b6a1-668e069fd852"
      },
      "execution_count": 44,
      "outputs": [
        {
          "output_type": "stream",
          "name": "stdout",
          "text": [
            "#Gen 0:\n",
            "[ 6  4 11 11  8  7 10  8  3  4  5  6  8 12  5  7]\n",
            "#Gen 1:\n",
            "[11  9 12 10  8  7  8 12 12 12  9  8  7 11 11 10]\n",
            "#Gen 2:\n",
            "[11 11 12 12 13 12 11 11 11 12 11 11 12 13 10 12]\n",
            "#Gen 3:\n",
            "[13 11 12 12 12 13 13 13 13 13 12 12 13 12 13 12]\n",
            "#Gen 4:\n",
            "[13 13 13 13 13 14 13 13 13 13 13 13 13 13 13 14]\n",
            "#Gen 5:\n",
            "[13 13 13 14 15 13 14 14 13 15 14 14 13 14 14 13]\n",
            "#Gen 6:\n",
            "[14 15 14 15 15 14 14 14 14 15 15 14 14 15 15 14]\n",
            "#Gen 7:\n",
            "[16 15 16 15 15 15 15 16 14 16 15 16 15 16 16 15]\n",
            "#Gen 8:\n",
            "[16 16 15 16 16 16 16 16 16 16 16 16 16 16 16 16]\n",
            "#Gen 9:\n",
            "[16 16 16 16 16 16 16 16 16 16 16 16 16 16 16 16]\n",
            "#Gen 10:\n",
            "[16 16 16 16 16 16 16 16 16 16 16 16 16 16 16 16]\n",
            "#Final result:\n",
            "[[1 1 1 1 1 1 1 1 1 1 1 1 1 1 1 1]\n",
            " [1 1 1 1 1 1 1 1 1 1 1 1 1 1 1 1]\n",
            " [1 1 1 1 1 1 1 1 1 1 1 1 1 1 1 1]\n",
            " [1 1 1 1 1 1 1 1 1 1 1 1 1 1 1 1]\n",
            " [1 1 1 1 1 1 1 1 1 1 1 1 1 1 1 1]\n",
            " [1 1 1 1 1 1 1 1 1 1 1 1 1 1 1 1]\n",
            " [1 1 1 1 1 1 1 1 1 1 1 1 1 1 1 1]\n",
            " [1 1 1 1 1 1 1 1 1 1 1 1 1 1 1 1]\n",
            " [1 1 1 1 1 1 1 1 1 1 1 1 1 1 1 1]\n",
            " [1 1 1 1 1 1 1 1 1 1 1 1 1 1 1 1]\n",
            " [1 1 1 1 1 1 1 1 1 1 1 1 1 1 1 1]\n",
            " [1 1 1 1 1 1 1 1 1 1 1 1 1 1 1 1]\n",
            " [1 1 1 1 1 1 1 1 1 1 1 1 1 1 1 1]\n",
            " [1 1 1 1 1 1 1 1 1 1 1 1 1 1 1 1]\n",
            " [1 1 1 1 1 1 1 1 1 1 1 1 1 1 1 1]\n",
            " [1 1 1 1 1 1 1 1 1 1 1 1 1 1 1 1]]\n",
            "[16 16 16 16 16 16 16 16 16 16 16 16 16 16 16 16]\n"
          ]
        }
      ]
    },
    {
      "cell_type": "code",
      "source": [
        "# Trường hợp kích thước quần thể là 30, số biến là 32\n",
        "np.random.seed(19522274)\n",
        "num_parameters = 32 # số biến\n",
        "num_individuals = 30\n",
        "num_generations = 10\n",
        "genetic_algorithm(num_individuals, num_parameters, num_generations)"
      ],
      "metadata": {
        "colab": {
          "base_uri": "https://localhost:8080/"
        },
        "id": "EK76ipSmMzOI",
        "outputId": "e5ea9482-a8e6-4be8-ebb3-d47a94fa49da"
      },
      "execution_count": 53,
      "outputs": [
        {
          "output_type": "stream",
          "name": "stdout",
          "text": [
            "#Gen 0:\n",
            "[10 22 15 18  7 11 20 12 15 17 17 16 15 19 13 15 18 15 19 14 15 12 16 12\n",
            " 20 14 20 22 16 15]\n",
            "#Gen 1:\n",
            "[17 22 22 20 20 20 20 20 19 16 15 22 18 18 22 18 22 22 17 20 22 18 14 20\n",
            " 16 20 19 22 20 20]\n",
            "#Gen 2:\n",
            "[22 20 20 22 22 20 22 21 20 22 18 22 25 24 23 24 25 20 22 22 24 20 22 20\n",
            " 23 23 22 20 22 22]\n",
            "#Gen 3:\n",
            "[25 25 25 26 24 26 22 23 23 23 22 23 23 22 23 24 26 23 23 25 26 22 23 21\n",
            " 23 25 24 22 25 23]\n",
            "#Gen 4:\n",
            "[25 25 26 26 25 26 25 23 26 25 24 25 26 28 25 24 25 25 24 24 28 25 26 26\n",
            " 26 25 26 26 25 23]\n",
            "#Gen 5:\n",
            "[27 26 26 26 26 28 27 29 28 26 26 26 27 26 26 27 27 27 26 28 26 27 26 26\n",
            " 26 29 28 26 26 26]\n",
            "#Gen 6:\n",
            "[28 27 29 29 26 27 28 28 30 30 28 28 28 28 27 29 28 29 26 27 29 27 28 28\n",
            " 28 28 28 30 30 27]\n",
            "#Gen 7:\n",
            "[28 30 29 30 29 28 30 29 30 29 29 30 30 30 28 29 29 29 29 30 30 29 29 30\n",
            " 29 28 30 30 30 29]\n",
            "#Gen 8:\n",
            "[30 30 30 29 30 30 29 32 30 30 30 30 30 30 30 30 30 30 29 30 32 30 30 29\n",
            " 30 30 30 30 30 30]\n",
            "#Gen 9:\n",
            "[30 31 30 30 30 31 32 32 32 31 30 30 32 30 30 31 32 30 30 32 30 31 30 30\n",
            " 32 31 30 32 31 31]\n",
            "#Gen 10:\n",
            "[32 32 31 32 32 32 32 31 32 32 32 32 31 32 31 31 32 32 31 32 31 31 32 32\n",
            " 31 32 32 32 32 32]\n",
            "#Final result:\n",
            "[[1 1 1 1 1 1 1 1 1 1 1 1 1 1 1 1 1 1 1 1 1 1 1 1 1 1 1 1 1 1 1 1]\n",
            " [1 1 1 1 1 1 1 1 1 1 1 1 1 1 1 1 1 1 1 1 1 1 1 1 1 1 1 1 1 1 1 1]\n",
            " [1 0 1 1 1 1 1 1 1 1 1 1 1 1 1 1 1 1 1 1 1 1 1 1 1 1 1 1 1 1 1 1]\n",
            " [1 1 1 1 1 1 1 1 1 1 1 1 1 1 1 1 1 1 1 1 1 1 1 1 1 1 1 1 1 1 1 1]\n",
            " [1 1 1 1 1 1 1 1 1 1 1 1 1 1 1 1 1 1 1 1 1 1 1 1 1 1 1 1 1 1 1 1]\n",
            " [1 1 1 1 1 1 1 1 1 1 1 1 1 1 1 1 1 1 1 1 1 1 1 1 1 1 1 1 1 1 1 1]\n",
            " [1 1 1 1 1 1 1 1 1 1 1 1 1 1 1 1 1 1 1 1 1 1 1 1 1 1 1 1 1 1 1 1]\n",
            " [1 1 1 1 1 1 1 1 1 1 1 1 1 1 1 1 1 1 0 1 1 1 1 1 1 1 1 1 1 1 1 1]\n",
            " [1 1 1 1 1 1 1 1 1 1 1 1 1 1 1 1 1 1 1 1 1 1 1 1 1 1 1 1 1 1 1 1]\n",
            " [1 1 1 1 1 1 1 1 1 1 1 1 1 1 1 1 1 1 1 1 1 1 1 1 1 1 1 1 1 1 1 1]\n",
            " [1 1 1 1 1 1 1 1 1 1 1 1 1 1 1 1 1 1 1 1 1 1 1 1 1 1 1 1 1 1 1 1]\n",
            " [1 1 1 1 1 1 1 1 1 1 1 1 1 1 1 1 1 1 1 1 1 1 1 1 1 1 1 1 1 1 1 1]\n",
            " [1 1 1 1 1 1 1 1 1 1 1 1 1 1 1 1 1 1 0 1 1 1 1 1 1 1 1 1 1 1 1 1]\n",
            " [1 1 1 1 1 1 1 1 1 1 1 1 1 1 1 1 1 1 1 1 1 1 1 1 1 1 1 1 1 1 1 1]\n",
            " [1 1 1 1 1 1 0 1 1 1 1 1 1 1 1 1 1 1 1 1 1 1 1 1 1 1 1 1 1 1 1 1]\n",
            " [1 1 1 1 1 1 1 1 1 1 1 1 1 1 1 1 1 1 1 1 1 1 1 1 1 1 0 1 1 1 1 1]\n",
            " [1 1 1 1 1 1 1 1 1 1 1 1 1 1 1 1 1 1 1 1 1 1 1 1 1 1 1 1 1 1 1 1]\n",
            " [1 1 1 1 1 1 1 1 1 1 1 1 1 1 1 1 1 1 1 1 1 1 1 1 1 1 1 1 1 1 1 1]\n",
            " [1 1 1 1 1 1 1 1 1 1 1 1 1 1 1 1 1 1 1 1 1 1 1 1 1 1 0 1 1 1 1 1]\n",
            " [1 1 1 1 1 1 1 1 1 1 1 1 1 1 1 1 1 1 1 1 1 1 1 1 1 1 1 1 1 1 1 1]\n",
            " [1 1 1 1 1 1 1 1 1 1 1 1 1 1 1 0 1 1 1 1 1 1 1 1 1 1 1 1 1 1 1 1]\n",
            " [1 1 1 1 1 1 0 1 1 1 1 1 1 1 1 1 1 1 1 1 1 1 1 1 1 1 1 1 1 1 1 1]\n",
            " [1 1 1 1 1 1 1 1 1 1 1 1 1 1 1 1 1 1 1 1 1 1 1 1 1 1 1 1 1 1 1 1]\n",
            " [1 1 1 1 1 1 1 1 1 1 1 1 1 1 1 1 1 1 1 1 1 1 1 1 1 1 1 1 1 1 1 1]\n",
            " [1 1 1 1 1 1 0 1 1 1 1 1 1 1 1 1 1 1 1 1 1 1 1 1 1 1 1 1 1 1 1 1]\n",
            " [1 1 1 1 1 1 1 1 1 1 1 1 1 1 1 1 1 1 1 1 1 1 1 1 1 1 1 1 1 1 1 1]\n",
            " [1 1 1 1 1 1 1 1 1 1 1 1 1 1 1 1 1 1 1 1 1 1 1 1 1 1 1 1 1 1 1 1]\n",
            " [1 1 1 1 1 1 1 1 1 1 1 1 1 1 1 1 1 1 1 1 1 1 1 1 1 1 1 1 1 1 1 1]\n",
            " [1 1 1 1 1 1 1 1 1 1 1 1 1 1 1 1 1 1 1 1 1 1 1 1 1 1 1 1 1 1 1 1]\n",
            " [1 1 1 1 1 1 1 1 1 1 1 1 1 1 1 1 1 1 1 1 1 1 1 1 1 1 1 1 1 1 1 1]]\n",
            "[32 32 31 32 32 32 32 31 32 32 32 32 31 32 31 31 32 32 31 32 31 31 32 32\n",
            " 31 32 32 32 32 32]\n"
          ]
        }
      ]
    },
    {
      "cell_type": "code",
      "source": [
        "# Trường hợp kích thước quần thể là 60, số biến là 64\n",
        "np.random.seed(19522274)\n",
        "num_parameters = 64 # số biến\n",
        "num_individuals = 60\n",
        "num_generations = 20\n",
        "genetic_algorithm(num_individuals, num_parameters, num_generations)"
      ],
      "metadata": {
        "colab": {
          "base_uri": "https://localhost:8080/"
        },
        "id": "HCU0cEuQNZtg",
        "outputId": "41b3f77a-92f7-4207-c3ed-6193f19194b1"
      },
      "execution_count": 68,
      "outputs": [
        {
          "output_type": "stream",
          "name": "stdout",
          "text": [
            "#Gen 0:\n",
            "[32 33 18 32 32 33 34 28 33 33 27 28 34 42 31 40 40 34 38 25 39 28 27 31\n",
            " 41 35 33 31 31 26 37 32 39 29 32 32 28 25 36 38 31 35 23 35 33 26 29 25\n",
            " 34 29 31 27 32 35 35 25 30 34 30 33]\n",
            "#Gen 1:\n",
            "[35 37 38 40 39 35 39 40 32 31 33 35 34 38 41 37 37 33 35 37 42 31 33 33\n",
            " 33 38 31 40 37 38 33 34 38 39 31 33 33 39 32 32 33 31 31 35 38 36 38 37\n",
            " 40 38 37 35 34 41 40 36 33 37 42 33]\n",
            "#Gen 2:\n",
            "[43 46 35 40 37 41 37 36 40 41 38 40 35 38 41 40 42 39 39 38 41 39 37 37\n",
            " 39 44 40 38 41 42 41 33 40 37 44 40 40 40 38 41 42 41 38 38 36 39 38 39\n",
            " 39 41 40 46 38 40 38 39 40 42 43 38]\n",
            "#Gen 3:\n",
            "[45 42 40 40 42 46 44 41 40 44 41 42 41 44 46 39 43 42 41 41 43 45 41 41\n",
            " 44 42 43 40 44 44 44 43 39 45 45 41 42 42 46 41 44 43 45 40 40 44 40 44\n",
            " 44 41 42 40 41 44 42 43 43 42 46 41]\n",
            "#Gen 4:\n",
            "[45 46 44 44 43 43 44 42 46 42 43 47 47 43 45 43 48 45 44 43 45 48 46 46\n",
            " 47 43 45 43 44 50 45 44 47 43 44 45 44 44 44 48 45 44 45 44 44 44 47 42\n",
            " 45 48 45 44 45 46 43 50 46 43 46 46]\n",
            "#Gen 5:\n",
            "[47 49 49 48 54 49 50 46 51 44 46 49 46 47 47 47 44 46 48 48 48 48 47 45\n",
            " 48 50 46 48 45 44 48 47 48 48 50 49 47 48 51 47 47 45 48 47 45 45 49 47\n",
            " 50 45 46 49 47 46 54 48 49 48 48 45]\n",
            "#Gen 6:\n",
            "[49 54 50 51 52 49 49 48 49 48 48 49 49 48 49 49 54 51 48 49 49 50 50 49\n",
            " 52 53 50 53 53 48 50 48 49 49 48 49 52 51 49 53 54 49 49 49 48 50 50 53\n",
            " 51 48 50 50 50 53 49 49 50 54 48 49]\n",
            "#Gen 7:\n",
            "[50 53 54 52 52 54 53 55 51 53 52 54 54 54 53 53 49 52 54 55 52 49 51 50\n",
            " 50 54 51 53 51 49 55 52 53 53 54 53 52 50 54 53 52 51 50 52 55 53 52 54\n",
            " 54 51 50 50 54 51 50 53 51 53 52 54]\n",
            "#Gen 8:\n",
            "[55 53 56 53 55 54 55 56 52 54 54 56 54 54 55 54 54 55 53 53 53 52 55 54\n",
            " 56 55 57 54 55 55 54 56 54 55 53 56 55 51 54 57 56 54 53 54 51 54 56 55\n",
            " 54 54 53 55 55 54 55 55 55 55 56 55]\n",
            "#Gen 9:\n",
            "[59 56 55 55 58 57 55 57 54 56 56 57 55 55 55 54 57 55 55 58 55 58 56 56\n",
            " 56 55 54 58 57 56 57 55 56 56 54 55 56 57 55 57 55 58 57 55 56 56 58 55\n",
            " 56 57 56 55 56 56 55 57 55 58 59 55]\n",
            "#Gen 10:\n",
            "[58 58 59 58 57 58 59 58 57 58 57 57 58 56 59 60 57 60 55 57 56 58 57 59\n",
            " 57 57 61 58 59 57 58 58 57 57 57 58 56 57 58 58 56 59 59 55 57 56 59 56\n",
            " 60 57 58 59 61 59 60 58 56 59 57 56]\n",
            "#Gen 11:\n",
            "[60 61 59 60 60 61 60 59 60 59 60 58 58 59 61 59 60 58 58 60 58 60 60 60\n",
            " 59 61 59 57 58 59 60 60 58 58 57 57 60 60 60 60 61 58 60 60 58 59 60 59\n",
            " 59 59 57 60 61 61 60 59 60 59 61 59]\n",
            "#Gen 12:\n",
            "[61 62 61 61 60 60 62 63 61 61 61 60 60 60 61 60 60 60 59 60 60 60 62 61\n",
            " 60 61 62 60 61 62 62 63 60 60 61 60 60 59 62 61 62 60 61 61 61 60 62 62\n",
            " 60 61 60 61 60 59 60 60 60 60 60 60]\n",
            "#Gen 13:\n",
            "[64 62 62 60 62 60 62 62 61 62 62 62 63 60 62 63 61 64 62 62 60 63 63 62\n",
            " 62 61 61 61 62 61 62 62 61 62 61 62 62 63 61 63 61 63 62 63 62 62 61 64\n",
            " 62 62 62 62 62 61 61 62 63 62 60 64]\n",
            "#Gen 14:\n",
            "[63 64 62 63 62 64 62 63 62 63 63 63 63 63 64 64 62 64 63 63 64 63 63 64\n",
            " 63 62 63 63 62 62 63 62 62 62 63 64 63 63 63 64 62 64 63 62 64 63 63 63\n",
            " 64 63 64 63 63 62 62 62 63 63 62 62]\n",
            "#Gen 15:\n",
            "[64 63 63 64 64 64 64 64 64 64 64 64 63 63 64 63 64 64 63 64 64 63 64 64\n",
            " 64 63 63 64 64 63 63 64 63 64 63 64 64 63 64 63 64 64 64 64 64 64 63 64\n",
            " 64 64 63 64 63 64 63 64 64 63 64 64]\n",
            "#Gen 16:\n",
            "[64 64 64 64 64 64 64 64 64 64 64 64 64 64 64 64 63 64 64 64 64 64 64 64\n",
            " 64 64 64 64 64 64 64 64 64 64 64 64 64 64 64 64 64 64 64 64 64 64 64 64\n",
            " 64 64 64 64 64 64 64 64 64 64 64 64]\n",
            "#Gen 17:\n",
            "[64 64 64 64 64 64 64 64 64 64 64 64 64 64 64 64 64 64 64 64 64 64 64 64\n",
            " 64 64 64 64 64 64 64 64 64 64 64 64 64 64 64 64 64 64 64 64 64 64 64 64\n",
            " 64 64 64 64 64 64 64 64 64 64 64 64]\n",
            "#Gen 18:\n",
            "[64 64 64 64 64 64 64 64 64 64 64 64 64 64 64 64 64 64 64 64 64 64 64 64\n",
            " 64 64 64 64 64 64 64 64 64 64 64 64 64 64 64 64 64 64 64 64 64 64 64 64\n",
            " 64 64 64 64 64 64 64 64 64 64 64 64]\n",
            "#Gen 19:\n",
            "[64 64 64 64 64 64 64 64 64 64 64 64 64 64 64 64 64 64 64 64 64 64 64 64\n",
            " 64 64 64 64 64 64 64 64 64 64 64 64 64 64 64 64 64 64 64 64 64 64 64 64\n",
            " 64 64 64 64 64 64 64 64 64 64 64 64]\n",
            "#Gen 20:\n",
            "[64 64 64 64 64 64 64 64 64 64 64 64 64 64 64 64 64 64 64 64 64 64 64 64\n",
            " 64 64 64 64 64 64 64 64 64 64 64 64 64 64 64 64 64 64 64 64 64 64 64 64\n",
            " 64 64 64 64 64 64 64 64 64 64 64 64]\n",
            "#Final result:\n",
            "[[1 1 1 ... 1 1 1]\n",
            " [1 1 1 ... 1 1 1]\n",
            " [1 1 1 ... 1 1 1]\n",
            " ...\n",
            " [1 1 1 ... 1 1 1]\n",
            " [1 1 1 ... 1 1 1]\n",
            " [1 1 1 ... 1 1 1]]\n",
            "[64 64 64 64 64 64 64 64 64 64 64 64 64 64 64 64 64 64 64 64 64 64 64 64\n",
            " 64 64 64 64 64 64 64 64 64 64 64 64 64 64 64 64 64 64 64 64 64 64 64 64\n",
            " 64 64 64 64 64 64 64 64 64 64 64 64]\n"
          ]
        }
      ]
    },
    {
      "cell_type": "markdown",
      "source": [
        "* Nhận xét: Khi tăng prob_size = 64 thì thực nghiệm với pop_size trong khoảng [32;64] quần thể không đạt hội tụ vì vậy phải tăng số thế hệ lên 20 thì quần thể đạt hội tụ và cho được kết quả tốt nhất."
      ],
      "metadata": {
        "id": "i--tht5POM3g"
      }
    }
  ],
  "metadata": {
    "anaconda-cloud": {},
    "colab": {
      "provenance": [],
      "collapsed_sections": []
    },
    "kernelspec": {
      "display_name": "Python [Root]",
      "language": "python",
      "name": "Python [Root]"
    },
    "language_info": {
      "codemirror_mode": {
        "name": "ipython",
        "version": 2
      },
      "file_extension": ".py",
      "mimetype": "text/x-python",
      "name": "python",
      "nbconvert_exporter": "python",
      "pygments_lexer": "ipython2",
      "version": "2.7.12"
    }
  },
  "nbformat": 4,
  "nbformat_minor": 0
}